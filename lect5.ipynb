{
 "cells": [
  {
   "cell_type": "markdown",
   "metadata": {},
   "source": [
    "\n",
    "#### Sequence data type"
   ]
  },
  {
   "cell_type": "markdown",
   "metadata": {},
   "source": [
    "1.) Sequences allows you to store multiple values in an organized and efficient Fashion <br>\n",
    "2.) Sequence Types include: string,unicodestring,lists,tuples,arrays and range objects <br>\n",
    "3.) Dictionaries and sets are containers for non sequential Data "
   ]
  },
  {
   "cell_type": "markdown",
   "metadata": {},
   "source": [
    "String: Sequence of characters <br>\n",
    "Tuples: Sequence of compound data-()<br>\n",
    "Lists:  Sequence of multi-data type objects <br>\n",
    "Arrays: Sequences of constraints list of objects <br>\n",
    "Dictionary: Sequence of key-value pairs <br>\n",
    "Sets: Sequence of unordered collection of unique data <br>\n",
    "Range: Used for looping - using built-in range() <br>"
   ]
  },
  {
   "cell_type": "markdown",
   "metadata": {},
   "source": [
    "### String"
   ]
  },
  {
   "cell_type": "code",
   "execution_count": 2,
   "metadata": {},
   "outputs": [
    {
     "data": {
      "text/plain": [
       "'Rabindra'"
      ]
     },
     "execution_count": 2,
     "metadata": {},
     "output_type": "execute_result"
    }
   ],
   "source": [
    "#Initialization \n",
    "String=\"Rabindra\"\n",
    "String"
   ]
  },
  {
   "cell_type": "markdown",
   "metadata": {},
   "source": [
    "### List"
   ]
  },
  {
   "cell_type": "code",
   "execution_count": 6,
   "metadata": {},
   "outputs": [
    {
     "name": "stdout",
     "output_type": "stream",
     "text": [
      "Mishra\n"
     ]
    }
   ],
   "source": [
    "List1 = [1,2,3,4,[55,\"Mishra\"]]\n",
    "print(List1[4][1])  #List ke andar list"
   ]
  },
  {
   "cell_type": "code",
   "execution_count": 8,
   "metadata": {},
   "outputs": [],
   "source": [
    "List2 =['1',2,3,4,6,\"Rabindra\",{'age':23}] #elements of multiple datatypes"
   ]
  },
  {
   "cell_type": "markdown",
   "metadata": {},
   "source": [
    "### Array\n",
    "### It is similiar to List but here it contains only type of dataelements and need to be initialized by typecode "
   ]
  },
  {
   "cell_type": "code",
   "execution_count": 13,
   "metadata": {},
   "outputs": [],
   "source": [
    "from array import *"
   ]
  },
  {
   "cell_type": "code",
   "execution_count": 15,
   "metadata": {},
   "outputs": [
    {
     "data": {
      "text/plain": [
       "array('i', [1, 2, 3, 4, 5])"
      ]
     },
     "execution_count": 15,
     "metadata": {},
     "output_type": "execute_result"
    }
   ],
   "source": [
    "arrsample=array('i',[1,2,3,4,5])  #Here, 'i' represents this array will contain integers \n",
    "arrsample"
   ]
  },
  {
   "cell_type": "code",
   "execution_count": 16,
   "metadata": {},
   "outputs": [
    {
     "name": "stdout",
     "output_type": "stream",
     "text": [
      "1 2 3 4 5 "
     ]
    }
   ],
   "source": [
    "for rabindra in arrsample:print(rabindra ,end=\" \")"
   ]
  },
  {
   "cell_type": "markdown",
   "metadata": {},
   "source": [
    "    code     Python Type        Min bytes\n",
    "=====================================================\n",
    "    'b'           int              1                 \n",
    "    'B'           int              1                 \n",
    "    'u'           Unicode          2                 \n",
    "    'h'           int              2                 \n",
    "    'H'           int              2                 \n",
    "    'i'           int              2                 \n",
    "    'I'           int              2                 \n",
    "    'l'           int              4                 \n",
    "    'L'           int              4                 \n",
    "    'f'           float            4                      \n",
    "    'd'           float            8                 "
   ]
  },
  {
   "cell_type": "markdown",
   "metadata": {},
   "source": [
    "### Tuple\n",
    "##### It is a read only List "
   ]
  },
  {
   "cell_type": "code",
   "execution_count": 17,
   "metadata": {},
   "outputs": [
    {
     "name": "stdout",
     "output_type": "stream",
     "text": [
      "(23, 45, 56, 77, 85)\n"
     ]
    }
   ],
   "source": [
    "Tuple=(23,45,56,77,85)\n",
    "print(Tuple)"
   ]
  },
  {
   "cell_type": "markdown",
   "metadata": {},
   "source": [
    "##### Tuple Packing"
   ]
  },
  {
   "cell_type": "code",
   "execution_count": 19,
   "metadata": {},
   "outputs": [
    {
     "name": "stdout",
     "output_type": "stream",
     "text": [
      "<class 'tuple'>\n"
     ]
    }
   ],
   "source": [
    "sample = 2,45,6,\"rabindra\"\n",
    "print(type(sample))"
   ]
  },
  {
   "cell_type": "markdown",
   "metadata": {},
   "source": [
    "### Dictionary in Python"
   ]
  },
  {
   "cell_type": "code",
   "execution_count": 26,
   "metadata": {},
   "outputs": [
    {
     "data": {
      "text/plain": [
       "{1: 'Hello', 2: 'Data-Science', 4: 'Nptel', 5: 100}"
      ]
     },
     "execution_count": 26,
     "metadata": {},
     "output_type": "execute_result"
    }
   ],
   "source": [
    "dict1={1:\"Hello\",2:\"Hi\",2:\"Data-Science\",4:\"Nptel\",5:100}\n",
    "dict1"
   ]
  },
  {
   "cell_type": "code",
   "execution_count": 29,
   "metadata": {},
   "outputs": [
    {
     "name": "stdout",
     "output_type": "stream",
     "text": [
      "{'Hello': 35, 'Rabindra': 'Topper'}\n"
     ]
    }
   ],
   "source": [
    "## Creating Dictionary as a Key Valueu Pair using dict() Function \n",
    "# Now, creating a dictionary\n",
    "dict2 = dict([(\"Hello\", 35), (\"Rabindra\", \"Topper\")])\n",
    "print(dict2)\n"
   ]
  },
  {
   "cell_type": "markdown",
   "metadata": {},
   "source": [
    "#sometime  if dict is defined as a variable we must redfine it to use it as a dict() method eg: del dict we can write this."
   ]
  },
  {
   "cell_type": "markdown",
   "metadata": {},
   "source": [
    "### Set"
   ]
  },
  {
   "cell_type": "code",
   "execution_count": 34,
   "metadata": {},
   "outputs": [
    {
     "data": {
      "text/plain": [
       "{1, 23, 45, 6, 'Example'}"
      ]
     },
     "execution_count": 34,
     "metadata": {},
     "output_type": "execute_result"
    }
   ],
   "source": [
    "S={'Example',1,23,45,45,6,} #No duplicates and Unordered\n",
    "S"
   ]
  },
  {
   "cell_type": "markdown",
   "metadata": {},
   "source": [
    "### Range()"
   ]
  },
  {
   "cell_type": "code",
   "execution_count": 35,
   "metadata": {},
   "outputs": [],
   "source": [
    "rangeSample=range(2,10,2)\n"
   ]
  },
  {
   "cell_type": "code",
   "execution_count": 38,
   "metadata": {},
   "outputs": [
    {
     "name": "stdout",
     "output_type": "stream",
     "text": [
      "2 4 6 8 "
     ]
    }
   ],
   "source": [
    "for i in rangeSample:print(i,end=\" \")"
   ]
  },
  {
   "cell_type": "code",
   "execution_count": null,
   "metadata": {},
   "outputs": [],
   "source": []
  }
 ],
 "metadata": {
  "kernelspec": {
   "display_name": "Python 3",
   "language": "python",
   "name": "python3"
  },
  "language_info": {
   "codemirror_mode": {
    "name": "ipython",
    "version": 3
   },
   "file_extension": ".py",
   "mimetype": "text/x-python",
   "name": "python",
   "nbconvert_exporter": "python",
   "pygments_lexer": "ipython3",
   "version": "3.11.1"
  }
 },
 "nbformat": 4,
 "nbformat_minor": 2
}
