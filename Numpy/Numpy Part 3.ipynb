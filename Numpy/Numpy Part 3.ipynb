{
 "cells": [
  {
   "cell_type": "markdown",
   "id": "f36887d1",
   "metadata": {},
   "source": [
    "### Arange in Numpy"
   ]
  },
  {
   "cell_type": "code",
   "execution_count": 1,
   "id": "94bc05a7",
   "metadata": {},
   "outputs": [],
   "source": [
    "import numpy as np"
   ]
  },
  {
   "cell_type": "code",
   "execution_count": 13,
   "id": "28eb799a",
   "metadata": {},
   "outputs": [
    {
     "name": "stdout",
     "output_type": "stream",
     "text": [
      "[ 0  1  2  3  4  5  6  7  8  9 10 11 12 13 14 15 16 17 18 19]\n"
     ]
    }
   ],
   "source": [
    "a=np.arange(0,20) #(start,end,step)\n",
    "print(a)"
   ]
  },
  {
   "cell_type": "code",
   "execution_count": 14,
   "id": "1c620fe1",
   "metadata": {},
   "outputs": [
    {
     "name": "stdout",
     "output_type": "stream",
     "text": [
      "[1 4 7]\n"
     ]
    }
   ],
   "source": [
    "b=np.arange(1,10,3)\n",
    "print(b)"
   ]
  },
  {
   "cell_type": "code",
   "execution_count": 15,
   "id": "c2956440",
   "metadata": {},
   "outputs": [],
   "source": [
    "#Printing all even numbers using numpy Array\n",
    "c=np.arange(2,20,2)"
   ]
  },
  {
   "cell_type": "markdown",
   "id": "e80204fb",
   "metadata": {},
   "source": [
    "#### Reshape in Numpy"
   ]
  },
  {
   "cell_type": "code",
   "execution_count": 16,
   "id": "d880e356",
   "metadata": {},
   "outputs": [
    {
     "name": "stdout",
     "output_type": "stream",
     "text": [
      "[[ 0  1  2  3  4]\n",
      " [ 5  6  7  8  9]\n",
      " [10 11 12 13 14]\n",
      " [15 16 17 18 19]]\n"
     ]
    }
   ],
   "source": [
    "def Resp(row,col,arr):\n",
    "    if (arr.size==row*col):\n",
    "        arr=arr.reshape((row,col))\n",
    "        print(arr)\n",
    "    else:\n",
    "        print(\"Reshape Not Possible\")\n",
    "Resp(4,5,a)\n",
    "        \n",
    "    "
   ]
  },
  {
   "cell_type": "markdown",
   "id": "7c0dbd57",
   "metadata": {},
   "source": [
    "### Flatening the array"
   ]
  },
  {
   "cell_type": "code",
   "execution_count": 17,
   "id": "89f6db19",
   "metadata": {},
   "outputs": [
    {
     "data": {
      "text/plain": [
       "array([ 0,  1,  2,  3,  4,  5,  6,  7,  8,  9, 10, 11, 12, 13, 14, 15, 16,\n",
       "       17, 18, 19])"
      ]
     },
     "execution_count": 17,
     "metadata": {},
     "output_type": "execute_result"
    }
   ],
   "source": [
    "a.flatten()"
   ]
  },
  {
   "cell_type": "markdown",
   "id": "d6df1f74",
   "metadata": {},
   "source": [
    "### Ravel in Numpy"
   ]
  },
  {
   "cell_type": "code",
   "execution_count": 18,
   "id": "5b70a3fe",
   "metadata": {},
   "outputs": [
    {
     "data": {
      "text/plain": [
       "array([ 0,  1,  2,  3,  4,  5,  6,  7,  8,  9, 10, 11, 12, 13, 14, 15, 16,\n",
       "       17, 18, 19])"
      ]
     },
     "execution_count": 18,
     "metadata": {},
     "output_type": "execute_result"
    }
   ],
   "source": [
    "a.ravel()"
   ]
  },
  {
   "cell_type": "markdown",
   "id": "406c2322",
   "metadata": {},
   "source": [
    "### Ravel :Return only refrence, faster than flatten(),Library level Function,value of original array will also change,doesnot occupy Memory"
   ]
  },
  {
   "cell_type": "markdown",
   "id": "2f679059",
   "metadata": {},
   "source": [
    "### flatten: Returns copy of original array,original value of array is not affected, method of an ndarray object,occupies memory,slower than ravel"
   ]
  },
  {
   "cell_type": "code",
   "execution_count": null,
   "id": "a9e28e2e",
   "metadata": {},
   "outputs": [],
   "source": []
  }
 ],
 "metadata": {
  "kernelspec": {
   "display_name": "Python 3 (ipykernel)",
   "language": "python",
   "name": "python3"
  },
  "language_info": {
   "codemirror_mode": {
    "name": "ipython",
    "version": 3
   },
   "file_extension": ".py",
   "mimetype": "text/x-python",
   "name": "python",
   "nbconvert_exporter": "python",
   "pygments_lexer": "ipython3",
   "version": "3.9.13"
  }
 },
 "nbformat": 4,
 "nbformat_minor": 5
}
