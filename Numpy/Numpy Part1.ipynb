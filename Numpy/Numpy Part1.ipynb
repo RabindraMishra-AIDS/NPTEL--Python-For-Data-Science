{
 "cells": [
  {
   "cell_type": "markdown",
   "id": "e06aae0f",
   "metadata": {},
   "source": [
    "## Numpy:Part 1",
"## Numpy stands for Numerical Python"
   ]
  },
  {
   "cell_type": "code",
   "execution_count": 1,
   "id": "8b35f5ac",
   "metadata": {},
   "outputs": [
    {
     "name": "stdout",
     "output_type": "stream",
     "text": [
      "[12, 34, 56, 55]\n"
     ]
    }
   ],
   "source": [
    "import numpy as np\n",
    "l=[12,34,56,55]\n",
    "print(l)"
   ]
  },
  {
   "cell_type": "markdown",
   "id": "b0ec724c",
   "metadata": {},
   "source": [
    "#### Advantage of Numpy Array : 1D,2D Array"
   ]
  },
  {
   "cell_type": "code",
   "execution_count": 3,
   "id": "2e8d92d6",
   "metadata": {},
   "outputs": [
    {
     "name": "stdout",
     "output_type": "stream",
     "text": [
      "['1' 'Rohit' '7'] <class 'numpy.ndarray'>\n"
     ]
    }
   ],
   "source": [
    "a=np.array([1,\"Rohit\",7]) #Defining a Numpy Array\n",
    "print(a,type(a))"
   ]
  },
  {
   "cell_type": "code",
   "execution_count": 4,
   "id": "28588c8f",
   "metadata": {},
   "outputs": [
    {
     "name": "stdout",
     "output_type": "stream",
     "text": [
      "[[1 2 3]\n",
      " [4 5 6]] <class 'numpy.ndarray'>\n"
     ]
    }
   ],
   "source": [
    "b=np.array([[1,2,3],[4,5,6]]) #defining two dimensional Array\n",
    "print(b,type(b))"
   ]
  },
  {
   "cell_type": "code",
   "execution_count": 7,
   "id": "f7d28e7a",
   "metadata": {},
   "outputs": [
    {
     "name": "stdout",
     "output_type": "stream",
     "text": [
      "[[['Rohit' 'Gopal']\n",
      "  ['Sheik' 'Shyam']\n",
      "  ['Ram' 'Ganshyam']]] <class 'numpy.ndarray'>\n"
     ]
    }
   ],
   "source": [
    "c=np.array([[[\"Rohit\",\"Gopal\"],[\"Sheik\",\"Shyam\"],[\"Ram\",\"Ganshyam\"]]])\n",
    "print(c,type(c))"
   ]
  },
  {
   "cell_type": "code",
   "execution_count": 8,
   "id": "e34a42c2",
   "metadata": {},
   "outputs": [
    {
     "name": "stdout",
     "output_type": "stream",
     "text": [
      "Size of a: 3  Size of b: 6\n"
     ]
    }
   ],
   "source": [
    "print(\"Size of a:\",a.size,\" Size of b:\",b.size) #size will print total number of elements in array"
   ]
  },
  {
   "cell_type": "code",
   "execution_count": 10,
   "id": "de43ad10",
   "metadata": {},
   "outputs": [
    {
     "name": "stdout",
     "output_type": "stream",
     "text": [
      "(3,)\n",
      "(2, 3)\n",
      "(1, 3, 2)\n"
     ]
    }
   ],
   "source": [
    "print(a.shape)\n",
    "print(b.shape)\n",
    "print(c.shape)"
   ]
  },
  {
   "cell_type": "markdown",
   "id": "287ab478",
   "metadata": {},
   "source": [
    "### dtype:The type of data array contains"
   ]
  },
  {
   "cell_type": "code",
   "execution_count": 11,
   "id": "ecdadb09",
   "metadata": {},
   "outputs": [
    {
     "name": "stdout",
     "output_type": "stream",
     "text": [
      "<U11\n",
      "int32\n",
      "<U8\n"
     ]
    }
   ],
   "source": [
    "print(a.dtype)\n",
    "print(b.dtype)\n",
    "print(c.dtype)"
   ]
  },
  {
   "cell_type": "markdown",
   "id": "a81b1d52",
   "metadata": {},
   "source": [
    "#### Transpose of a Matrix\n"
   ]
  },
  {
   "cell_type": "code",
   "execution_count": 13,
   "id": "f3046ba7",
   "metadata": {},
   "outputs": [
    {
     "data": {
      "text/plain": [
       "array([[['Rohit'],\n",
       "        ['Sheik'],\n",
       "        ['Ram']],\n",
       "\n",
       "       [['Gopal'],\n",
       "        ['Shyam'],\n",
       "        ['Ganshyam']]], dtype='<U8')"
      ]
     },
     "execution_count": 13,
     "metadata": {},
     "output_type": "execute_result"
    }
   ],
   "source": [
    "c.transpose()"
   ]
  },
  {
   "cell_type": "code",
   "execution_count": null,
   "id": "768dd9ef",
   "metadata": {},
   "outputs": [],
   "source": []
  }
 ],
 "metadata": {
  "kernelspec": {
   "display_name": "Python 3 (ipykernel)",
   "language": "python",
   "name": "python3"
  },
  "language_info": {
   "codemirror_mode": {
    "name": "ipython",
    "version": 3
   },
   "file_extension": ".py",
   "mimetype": "text/x-python",
   "name": "python",
   "nbconvert_exporter": "python",
   "pygments_lexer": "ipython3",
   "version": "3.9.13"
  }
 },
 "nbformat": 4,
 "nbformat_minor": 5
}
