{
 "cells": [
  {
   "cell_type": "code",
   "execution_count": 1,
   "id": "f7a4e967",
   "metadata": {},
   "outputs": [],
   "source": [
    "import numpy as np"
   ]
  },
  {
   "cell_type": "markdown",
   "id": "8439a105",
   "metadata": {},
   "source": [
    "### String Operations"
   ]
  },
  {
   "cell_type": "code",
   "execution_count": 2,
   "id": "b4d06dba",
   "metadata": {},
   "outputs": [],
   "source": [
    "s1=\"Hello Bhaiya\"\n",
    "s2=\"Kaise Ho?\""
   ]
  },
  {
   "cell_type": "code",
   "execution_count": 3,
   "id": "e9025ffd",
   "metadata": {},
   "outputs": [
    {
     "data": {
      "text/plain": [
       "array('hello bhaiya', dtype='<U12')"
      ]
     },
     "execution_count": 3,
     "metadata": {},
     "output_type": "execute_result"
    }
   ],
   "source": [
    "np.char.lower(s1)"
   ]
  },
  {
   "cell_type": "code",
   "execution_count": 4,
   "id": "d2ed8cc3",
   "metadata": {},
   "outputs": [
    {
     "data": {
      "text/plain": [
       "array('Hello BhaiyaKaise Ho?', dtype='<U21')"
      ]
     },
     "execution_count": 4,
     "metadata": {},
     "output_type": "execute_result"
    }
   ],
   "source": [
    "np.char.add(s1,s2)"
   ]
  },
  {
   "cell_type": "code",
   "execution_count": 5,
   "id": "81e09e2e",
   "metadata": {},
   "outputs": [
    {
     "data": {
      "text/plain": [
       "array(list(['Hello', 'Bhaiya']), dtype=object)"
      ]
     },
     "execution_count": 5,
     "metadata": {},
     "output_type": "execute_result"
    }
   ],
   "source": [
    "np.char.split(s1) #Will Split string wherever it will find a space"
   ]
  },
  {
   "cell_type": "code",
   "execution_count": 7,
   "id": "1d5bbf07",
   "metadata": {},
   "outputs": [
    {
     "data": {
      "text/plain": [
       "array(list(['Mera Naam Hai DON', 'hello']), dtype=object)"
      ]
     },
     "execution_count": 7,
     "metadata": {},
     "output_type": "execute_result"
    }
   ],
   "source": [
    "s3=\"Mera Naam Hai DON\\nhello\"\n",
    "np.char.splitlines(s3) #will split wherver it will se next Line"
   ]
  },
  {
   "cell_type": "code",
   "execution_count": 9,
   "id": "ddd23649",
   "metadata": {},
   "outputs": [
    {
     "data": {
      "text/plain": [
       "array('Hi Bhaiya', dtype='<U9')"
      ]
     },
     "execution_count": 9,
     "metadata": {},
     "output_type": "execute_result"
    }
   ],
   "source": [
    "s1=np.char.replace(s1,\"Hello\",\"Hi\")\n",
    "s1"
   ]
  },
  {
   "cell_type": "code",
   "execution_count": null,
   "id": "16b87666",
   "metadata": {},
   "outputs": [],
   "source": [
    "print(\"------------- Good Bye ----------------------\")"
   ]
  },
  {
   "cell_type": "code",
   "execution_count": 10,
   "id": "46b7eebd",
   "metadata": {},
   "outputs": [
    {
     "name": "stdout",
     "output_type": "stream",
     "text": [
      "************************************good bye************************************\n"
     ]
    }
   ],
   "source": [
    "print(np.char.center('good bye',80,'*')) #80 places it will take and remaining places it will print *"
   ]
  },
  {
   "cell_type": "code",
   "execution_count": null,
   "id": "cd861b3e",
   "metadata": {},
   "outputs": [],
   "source": []
  }
 ],
 "metadata": {
  "kernelspec": {
   "display_name": "Python 3 (ipykernel)",
   "language": "python",
   "name": "python3"
  },
  "language_info": {
   "codemirror_mode": {
    "name": "ipython",
    "version": 3
   },
   "file_extension": ".py",
   "mimetype": "text/x-python",
   "name": "python",
   "nbconvert_exporter": "python",
   "pygments_lexer": "ipython3",
   "version": "3.9.13"
  }
 },
 "nbformat": 4,
 "nbformat_minor": 5
}
