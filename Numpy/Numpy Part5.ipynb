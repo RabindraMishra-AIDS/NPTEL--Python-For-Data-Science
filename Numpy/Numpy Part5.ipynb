{
 "cells": [
  {
   "cell_type": "code",
   "execution_count": 1,
   "id": "cc41407e",
   "metadata": {},
   "outputs": [],
   "source": [
    "import numpy as np"
   ]
  },
  {
   "cell_type": "markdown",
   "id": "bdc836c4",
   "metadata": {},
   "source": [
    "### Mathematical Operations in Numpy"
   ]
  },
  {
   "cell_type": "code",
   "execution_count": 7,
   "id": "01746123",
   "metadata": {},
   "outputs": [],
   "source": [
    "a=np.arange(10,30).reshape(4,5)\n",
    "b=np.arange(1,40,2).reshape(4,5)\n"
   ]
  },
  {
   "cell_type": "code",
   "execution_count": 12,
   "id": "2e2235e3",
   "metadata": {},
   "outputs": [
    {
     "name": "stdout",
     "output_type": "stream",
     "text": [
      "[[10 11 12 13 14]\n",
      " [15 16 17 18 19]\n",
      " [20 21 22 23 24]\n",
      " [25 26 27 28 29]]\n",
      " \n",
      "[[ 1  3  5  7  9]\n",
      " [11 13 15 17 19]\n",
      " [21 23 25 27 29]\n",
      " [31 33 35 37 39]]\n"
     ]
    }
   ],
   "source": [
    "print(a)\n",
    "print(\" \")\n",
    "print(b)"
   ]
  },
  {
   "cell_type": "code",
   "execution_count": 13,
   "id": "04bff9aa",
   "metadata": {},
   "outputs": [
    {
     "data": {
      "text/plain": [
       "array([[  9,   8,   7,   6,   5],\n",
       "       [  4,   3,   2,   1,   0],\n",
       "       [ -1,  -2,  -3,  -4,  -5],\n",
       "       [ -6,  -7,  -8,  -9, -10]])"
      ]
     },
     "execution_count": 13,
     "metadata": {},
     "output_type": "execute_result"
    }
   ],
   "source": [
    "a-b #Similiar index wala element will get affected"
   ]
  },
  {
   "cell_type": "code",
   "execution_count": 14,
   "id": "7d0ba99f",
   "metadata": {},
   "outputs": [
    {
     "data": {
      "text/plain": [
       "array([[11, 14, 17, 20, 23],\n",
       "       [26, 29, 32, 35, 38],\n",
       "       [41, 44, 47, 50, 53],\n",
       "       [56, 59, 62, 65, 68]])"
      ]
     },
     "execution_count": 14,
     "metadata": {},
     "output_type": "execute_result"
    }
   ],
   "source": [
    "a+b"
   ]
  },
  {
   "cell_type": "code",
   "execution_count": 15,
   "id": "a5ce6445",
   "metadata": {},
   "outputs": [
    {
     "data": {
      "text/plain": [
       "array([[  10,   33,   60,   91,  126],\n",
       "       [ 165,  208,  255,  306,  361],\n",
       "       [ 420,  483,  550,  621,  696],\n",
       "       [ 775,  858,  945, 1036, 1131]])"
      ]
     },
     "execution_count": 15,
     "metadata": {},
     "output_type": "execute_result"
    }
   ],
   "source": [
    "a*b"
   ]
  },
  {
   "cell_type": "code",
   "execution_count": 16,
   "id": "3960111a",
   "metadata": {},
   "outputs": [
    {
     "data": {
      "text/plain": [
       "array([[10.        ,  3.66666667,  2.4       ,  1.85714286,  1.55555556],\n",
       "       [ 1.36363636,  1.23076923,  1.13333333,  1.05882353,  1.        ],\n",
       "       [ 0.95238095,  0.91304348,  0.88      ,  0.85185185,  0.82758621],\n",
       "       [ 0.80645161,  0.78787879,  0.77142857,  0.75675676,  0.74358974]])"
      ]
     },
     "execution_count": 16,
     "metadata": {},
     "output_type": "execute_result"
    }
   ],
   "source": [
    "a/b"
   ]
  },
  {
   "cell_type": "markdown",
   "id": "93635892",
   "metadata": {},
   "source": [
    "###  Product in Matrix"
   ]
  },
  {
   "cell_type": "code",
   "execution_count": 17,
   "id": "6ffd1aeb",
   "metadata": {},
   "outputs": [
    {
     "data": {
      "text/plain": [
       "array([[  10,   33,   60,   91,  126],\n",
       "       [ 165,  208,  255,  306,  361],\n",
       "       [ 420,  483,  550,  621,  696],\n",
       "       [ 775,  858,  945, 1036, 1131]])"
      ]
     },
     "execution_count": 17,
     "metadata": {},
     "output_type": "execute_result"
    }
   ],
   "source": [
    "np.multiply(a,b)"
   ]
  },
  {
   "cell_type": "markdown",
   "id": "b6c7763a",
   "metadata": {},
   "source": [
    "### Proper Matrix Multiplication "
   ]
  },
  {
   "cell_type": "code",
   "execution_count": 19,
   "id": "6f152130",
   "metadata": {},
   "outputs": [],
   "source": [
    " #Remember col of first matrix and row of second Matrix must be Identical\n",
    "a@b"
   ]
  },
  {
   "cell_type": "markdown",
   "id": "f110da0d",
   "metadata": {},
   "source": [
    "### Finding Maximum Minimum of array"
   ]
  },
  {
   "cell_type": "code",
   "execution_count": 20,
   "id": "98cf423b",
   "metadata": {},
   "outputs": [
    {
     "data": {
      "text/plain": [
       "29"
      ]
     },
     "execution_count": 20,
     "metadata": {},
     "output_type": "execute_result"
    }
   ],
   "source": [
    "a.max()"
   ]
  },
  {
   "cell_type": "code",
   "execution_count": 21,
   "id": "a60c56d9",
   "metadata": {},
   "outputs": [
    {
     "data": {
      "text/plain": [
       "10"
      ]
     },
     "execution_count": 21,
     "metadata": {},
     "output_type": "execute_result"
    }
   ],
   "source": [
    "a.min()"
   ]
  },
  {
   "cell_type": "code",
   "execution_count": 22,
   "id": "3247506e",
   "metadata": {},
   "outputs": [
    {
     "data": {
      "text/plain": [
       "19"
      ]
     },
     "execution_count": 22,
     "metadata": {},
     "output_type": "execute_result"
    }
   ],
   "source": [
    "#index of a.max() will be given by argmax()\n",
    "a.argmax()"
   ]
  },
  {
   "cell_type": "markdown",
   "id": "c90a562f",
   "metadata": {},
   "source": [
    "### Finding Sum of All array elements"
   ]
  },
  {
   "cell_type": "code",
   "execution_count": 23,
   "id": "3e39adff",
   "metadata": {},
   "outputs": [
    {
     "data": {
      "text/plain": [
       "array([ 60,  85, 110, 135])"
      ]
     },
     "execution_count": 23,
     "metadata": {},
     "output_type": "execute_result"
    }
   ],
   "source": [
    "#axis=1 means rows\n",
    "np.sum(a,axis=1)"
   ]
  },
  {
   "cell_type": "code",
   "execution_count": 24,
   "id": "81572ff8",
   "metadata": {},
   "outputs": [
    {
     "data": {
      "text/plain": [
       "400"
      ]
     },
     "execution_count": 24,
     "metadata": {},
     "output_type": "execute_result"
    }
   ],
   "source": [
    "np.sum(b)"
   ]
  },
  {
   "cell_type": "code",
   "execution_count": 25,
   "id": "7e05aa54",
   "metadata": {},
   "outputs": [
    {
     "data": {
      "text/plain": [
       "19.5"
      ]
     },
     "execution_count": 25,
     "metadata": {},
     "output_type": "execute_result"
    }
   ],
   "source": [
    "np.mean(a) #Finding Mean of Array"
   ]
  },
  {
   "cell_type": "code",
   "execution_count": 26,
   "id": "a95f9d45",
   "metadata": {},
   "outputs": [
    {
     "data": {
      "text/plain": [
       "array([[3.16227766, 3.31662479, 3.46410162, 3.60555128, 3.74165739],\n",
       "       [3.87298335, 4.        , 4.12310563, 4.24264069, 4.35889894],\n",
       "       [4.47213595, 4.58257569, 4.69041576, 4.79583152, 4.89897949],\n",
       "       [5.        , 5.09901951, 5.19615242, 5.29150262, 5.38516481]])"
      ]
     },
     "execution_count": 26,
     "metadata": {},
     "output_type": "execute_result"
    }
   ],
   "source": [
    "np.sqrt(a)"
   ]
  },
  {
   "cell_type": "code",
   "execution_count": 27,
   "id": "7a055771",
   "metadata": {},
   "outputs": [
    {
     "data": {
      "text/plain": [
       "array([[0.        , 1.09861229, 1.60943791, 1.94591015, 2.19722458],\n",
       "       [2.39789527, 2.56494936, 2.7080502 , 2.83321334, 2.94443898],\n",
       "       [3.04452244, 3.13549422, 3.21887582, 3.29583687, 3.36729583],\n",
       "       [3.4339872 , 3.49650756, 3.55534806, 3.61091791, 3.66356165]])"
      ]
     },
     "execution_count": 27,
     "metadata": {},
     "output_type": "execute_result"
    }
   ],
   "source": [
    "np.log(b)"
   ]
  },
  {
   "cell_type": "code",
   "execution_count": null,
   "id": "4fd1b6a6",
   "metadata": {},
   "outputs": [],
   "source": []
  }
 ],
 "metadata": {
  "kernelspec": {
   "display_name": "Python 3 (ipykernel)",
   "language": "python",
   "name": "python3"
  },
  "language_info": {
   "codemirror_mode": {
    "name": "ipython",
    "version": 3
   },
   "file_extension": ".py",
   "mimetype": "text/x-python",
   "name": "python",
   "nbconvert_exporter": "python",
   "pygments_lexer": "ipython3",
   "version": "3.9.13"
  }
 },
 "nbformat": 4,
 "nbformat_minor": 5
}
