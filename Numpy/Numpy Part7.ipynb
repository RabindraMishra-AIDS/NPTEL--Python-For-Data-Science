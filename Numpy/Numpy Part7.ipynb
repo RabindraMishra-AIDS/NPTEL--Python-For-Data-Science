{
 "cells": [
  {
   "cell_type": "code",
   "execution_count": null,
   "id": "73305930",
   "metadata": {},
   "outputs": [],
   "source": [
    "import numpy as np"
   ]
  },
  {
   "cell_type": "code",
   "execution_count": 3,
   "id": "d80ab5bf",
   "metadata": {},
   "outputs": [
    {
     "data": {
      "text/plain": [
       "array([0.81925514])"
      ]
     },
     "execution_count": 3,
     "metadata": {},
     "output_type": "execute_result"
    }
   ],
   "source": [
    "np.random.random(1) #Denotes Number of Elements"
   ]
  },
  {
   "cell_type": "code",
   "execution_count": 4,
   "id": "8582b030",
   "metadata": {},
   "outputs": [
    {
     "data": {
      "text/plain": [
       "array([0.91722632, 0.14799033])"
      ]
     },
     "execution_count": 4,
     "metadata": {},
     "output_type": "execute_result"
    }
   ],
   "source": [
    "np.random.random(2)"
   ]
  },
  {
   "cell_type": "code",
   "execution_count": 5,
   "id": "6cae7cce",
   "metadata": {},
   "outputs": [
    {
     "data": {
      "text/plain": [
       "array([[0.06205461, 0.05443667],\n",
       "       [0.35170546, 0.37981611]])"
      ]
     },
     "execution_count": 5,
     "metadata": {},
     "output_type": "execute_result"
    }
   ],
   "source": [
    "np.random.random((2,2))"
   ]
  },
  {
   "cell_type": "code",
   "execution_count": 6,
   "id": "ee37ca2c",
   "metadata": {},
   "outputs": [
    {
     "data": {
      "text/plain": [
       "array([[[0.93107225, 0.00161234, 0.4416883 , 0.06655483],\n",
       "        [0.46413727, 0.84324023, 0.02982207, 0.23770123],\n",
       "        [0.66778909, 0.93155167, 0.96575125, 0.06685793]],\n",
       "\n",
       "       [[0.70536343, 0.01784284, 0.14288813, 0.5730392 ],\n",
       "        [0.81297922, 0.37337731, 0.6590476 , 0.00811547],\n",
       "        [0.67217029, 0.19622327, 0.09540068, 0.65528616]]])"
      ]
     },
     "execution_count": 6,
     "metadata": {},
     "output_type": "execute_result"
    }
   ],
   "source": [
    "np.random.random((2,3,4))"
   ]
  },
  {
   "cell_type": "code",
   "execution_count": 9,
   "id": "e77f4271",
   "metadata": {},
   "outputs": [
    {
     "data": {
      "text/plain": [
       "3"
      ]
     },
     "execution_count": 9,
     "metadata": {},
     "output_type": "execute_result"
    }
   ],
   "source": [
    "np.random.randint(1,10) #generate random between 1 to 10"
   ]
  },
  {
   "cell_type": "code",
   "execution_count": 12,
   "id": "9de3d542",
   "metadata": {},
   "outputs": [
    {
     "data": {
      "text/plain": [
       "array([[8, 5],\n",
       "       [1, 2]])"
      ]
     },
     "execution_count": 12,
     "metadata": {},
     "output_type": "execute_result"
    }
   ],
   "source": [
    "np.random.randint(1,10,(2,2)) #Generate 2X2 matrix using random 1 to 1o"
   ]
  },
  {
   "cell_type": "code",
   "execution_count": 13,
   "id": "4139020a",
   "metadata": {},
   "outputs": [
    {
     "data": {
      "text/plain": [
       "array([[0.68182371, 0.21310733, 0.07467161, 0.26323177, 0.75020297,\n",
       "        0.0685364 , 0.48466759, 0.59371447, 0.2018965 , 0.43936687,\n",
       "        0.57921495, 0.57067098, 0.13861375, 0.81898583, 0.05746876,\n",
       "        0.55672201, 0.98019591, 0.59105445, 0.31118717, 0.27119262,\n",
       "        0.66335444, 0.24085674, 0.12220121, 0.84280635, 0.6111054 ,\n",
       "        0.73152219, 0.99072852, 0.56646887, 0.11662586, 0.4940229 ]])"
      ]
     },
     "execution_count": 13,
     "metadata": {},
     "output_type": "execute_result"
    }
   ],
   "source": [
    "np.random.rand(1,30) #float datatype"
   ]
  },
  {
   "cell_type": "code",
   "execution_count": 20,
   "id": "e97447cf",
   "metadata": {},
   "outputs": [
    {
     "data": {
      "text/plain": [
       "array([[-0.3294062 , -1.01835335],\n",
       "       [-0.09954761,  0.9468549 ]])"
      ]
     },
     "execution_count": 20,
     "metadata": {},
     "output_type": "execute_result"
    }
   ],
   "source": [
    "np.random.randn(2,2) #n denotes negative value are  allowed here"
   ]
  },
  {
   "cell_type": "code",
   "execution_count": 18,
   "id": "79d97e49",
   "metadata": {},
   "outputs": [
    {
     "data": {
      "text/plain": [
       "1"
      ]
     },
     "execution_count": 18,
     "metadata": {},
     "output_type": "execute_result"
    }
   ],
   "source": [
    "a=np.arange(1,5)\n",
    "np.random.choice(a) #It will select random element from this numpy"
   ]
  },
  {
   "cell_type": "code",
   "execution_count": null,
   "id": "6846faaf",
   "metadata": {},
   "outputs": [],
   "source": []
  }
 ],
 "metadata": {
  "kernelspec": {
   "display_name": "Python 3 (ipykernel)",
   "language": "python",
   "name": "python3"
  },
  "language_info": {
   "codemirror_mode": {
    "name": "ipython",
    "version": 3
   },
   "file_extension": ".py",
   "mimetype": "text/x-python",
   "name": "python",
   "nbconvert_exporter": "python",
   "pygments_lexer": "ipython3",
   "version": "3.9.13"
  }
 },
 "nbformat": 4,
 "nbformat_minor": 5
}
