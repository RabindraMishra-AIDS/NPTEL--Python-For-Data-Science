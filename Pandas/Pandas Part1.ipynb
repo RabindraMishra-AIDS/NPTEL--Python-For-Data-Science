{
 "cells": [
  {
   "cell_type": "code",
   "execution_count": 1,
   "id": "b4bab8db",
   "metadata": {},
   "outputs": [],
   "source": [
    "import pandas as pd #It is an open source Library\n",
    "import numpy as np"
   ]
  },
  {
   "cell_type": "code",
   "execution_count": 2,
   "id": "a1d78340",
   "metadata": {},
   "outputs": [
    {
     "data": {
      "text/plain": [
       "'1.4.4'"
      ]
     },
     "execution_count": 2,
     "metadata": {},
     "output_type": "execute_result"
    }
   ],
   "source": [
    "pd.__version__"
   ]
  },
  {
   "cell_type": "markdown",
   "id": "f08bdd1b",
   "metadata": {},
   "source": [
    "### Pandas Series"
   ]
  },
  {
   "cell_type": "code",
   "execution_count": 4,
   "id": "c6d8f083",
   "metadata": {},
   "outputs": [
    {
     "name": "stdout",
     "output_type": "stream",
     "text": [
      "0    1\n",
      "1    2\n",
      "2    3\n",
      "3    4\n",
      "4    5\n",
      "5    6\n",
      "dtype: int64\n"
     ]
    }
   ],
   "source": [
    "#series can multiple columns and rows unlike list\n",
    "l=[1,2,3,4,5,6]\n",
    "series=pd.Series(l)\n",
    "print(series)"
   ]
  },
  {
   "cell_type": "code",
   "execution_count": 5,
   "id": "993a0a77",
   "metadata": {},
   "outputs": [
    {
     "data": {
      "text/plain": [
       "pandas.core.series.Series"
      ]
     },
     "execution_count": 5,
     "metadata": {},
     "output_type": "execute_result"
    }
   ],
   "source": [
    "type(series)"
   ]
  },
  {
   "cell_type": "markdown",
   "id": "b0af5cb0",
   "metadata": {},
   "source": [
    "### Creating an Empty Series"
   ]
  },
  {
   "cell_type": "code",
   "execution_count": 6,
   "id": "b49559f6",
   "metadata": {},
   "outputs": [
    {
     "name": "stderr",
     "output_type": "stream",
     "text": [
      "C:\\Users\\admin\\AppData\\Local\\Temp\\ipykernel_8076\\1789121482.py:1: FutureWarning: The default dtype for empty Series will be 'object' instead of 'float64' in a future version. Specify a dtype explicitly to silence this warning.\n",
      "  empty=pd.Series([])\n"
     ]
    },
    {
     "data": {
      "text/plain": [
       "Series([], dtype: float64)"
      ]
     },
     "execution_count": 6,
     "metadata": {},
     "output_type": "execute_result"
    }
   ],
   "source": [
    "empty=pd.Series([])\n",
    "empty"
   ]
  },
  {
   "cell_type": "code",
   "execution_count": 7,
   "id": "56c9f5c3",
   "metadata": {},
   "outputs": [
    {
     "data": {
      "text/plain": [
       "10    a\n",
       "13    b\n",
       "34    c\n",
       "50    d\n",
       "dtype: object"
      ]
     },
     "execution_count": 7,
     "metadata": {},
     "output_type": "execute_result"
    }
   ],
   "source": [
    "a=pd.Series(['a','b','c','d'],index=[10,13,34,50]) #Giving Custom Index\n",
    "a\n"
   ]
  },
  {
   "cell_type": "code",
   "execution_count": 8,
   "id": "0603c72a",
   "metadata": {},
   "outputs": [
    {
     "data": {
      "text/plain": [
       "10    a\n",
       "13    b\n",
       "34    c\n",
       "50    d\n",
       "Name: Raja, dtype: object"
      ]
     },
     "execution_count": 8,
     "metadata": {},
     "output_type": "execute_result"
    }
   ],
   "source": [
    "#Giving name to our series\n",
    "b=pd.Series(['a','b','c','d'],index=[10,13,34,50],name=\"Raja\")\n",
    "b"
   ]
  },
  {
   "cell_type": "markdown",
   "id": "ac84abe8",
   "metadata": {},
   "source": [
    "### Scalar Series using a Particular Scalar Value"
   ]
  },
  {
   "cell_type": "code",
   "execution_count": 10,
   "id": "5303d0e1",
   "metadata": {},
   "outputs": [
    {
     "data": {
      "text/plain": [
       "1    0.5\n",
       "2    0.5\n",
       "3    0.5\n",
       "dtype: float64"
      ]
     },
     "execution_count": 10,
     "metadata": {},
     "output_type": "execute_result"
    }
   ],
   "source": [
    "scalar_series=pd.Series(0.5,index=[1,2,3])\n",
    "scalar_series"
   ]
  },
  {
   "cell_type": "markdown",
   "id": "04acc291",
   "metadata": {},
   "source": [
    "### Panda Series with Python Dictionary"
   ]
  },
  {
   "cell_type": "code",
   "execution_count": 17,
   "id": "0d448c87",
   "metadata": {},
   "outputs": [
    {
     "data": {
      "text/plain": [
       "0    {'name': 'Hello', 'Age': 23}\n",
       "1    {'name': 'Shyam', 'Age': 23}\n",
       "dtype: object"
      ]
     },
     "execution_count": 17,
     "metadata": {},
     "output_type": "execute_result"
    }
   ],
   "source": [
    "#Contains Key value pairs\n",
    "dictS=pd.Series([{'name':\"Hello\",'Age':23},{'name':\"Shyam\",'Age':23}])\n",
    "dictS\n"
   ]
  },
  {
   "cell_type": "code",
   "execution_count": 18,
   "id": "5ab20cf6",
   "metadata": {},
   "outputs": [
    {
     "data": {
      "text/plain": [
       "p    1\n",
       "a    2\n",
       "c    3\n",
       "dtype: int64"
      ]
     },
     "execution_count": 18,
     "metadata": {},
     "output_type": "execute_result"
    }
   ],
   "source": [
    "d1=pd.Series({'p':1,'a':2,'c':3})\n",
    "d1"
   ]
  },
  {
   "cell_type": "code",
   "execution_count": 19,
   "id": "4a419014",
   "metadata": {},
   "outputs": [
    {
     "data": {
      "text/plain": [
       "3"
      ]
     },
     "execution_count": 19,
     "metadata": {},
     "output_type": "execute_result"
    }
   ],
   "source": [
    "max(d1)"
   ]
  },
  {
   "cell_type": "code",
   "execution_count": 24,
   "id": "fc42a58e",
   "metadata": {},
   "outputs": [
    {
     "data": {
      "text/plain": [
       "3"
      ]
     },
     "execution_count": 24,
     "metadata": {},
     "output_type": "execute_result"
    }
   ],
   "source": [
    "d1[2] # ie series value at index 2 "
   ]
  },
  {
   "cell_type": "code",
   "execution_count": 22,
   "id": "d44b0a3c",
   "metadata": {},
   "outputs": [
    {
     "data": {
      "text/plain": [
       "p    1\n",
       "a    2\n",
       "dtype: int64"
      ]
     },
     "execution_count": 22,
     "metadata": {},
     "output_type": "execute_result"
    }
   ],
   "source": [
    "d1[0:2] # From zero to 1 index it will print"
   ]
  },
  {
   "cell_type": "code",
   "execution_count": null,
   "id": "e95f380c",
   "metadata": {},
   "outputs": [],
   "source": []
  }
 ],
 "metadata": {
  "kernelspec": {
   "display_name": "Python 3 (ipykernel)",
   "language": "python",
   "name": "python3"
  },
  "language_info": {
   "codemirror_mode": {
    "name": "ipython",
    "version": 3
   },
   "file_extension": ".py",
   "mimetype": "text/x-python",
   "name": "python",
   "nbconvert_exporter": "python",
   "pygments_lexer": "ipython3",
   "version": "3.9.13"
  }
 },
 "nbformat": 4,
 "nbformat_minor": 5
}
